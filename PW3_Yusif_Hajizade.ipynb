{
 "cells": [
  {
   "cell_type": "markdown",
   "metadata": {},
   "source": [
    "### Yusif Hajizade CS-020 id: 22022735\n",
    "# **Artificial Intelligence Practical Work 3**\n",
    "## **Lab: Entropy of a string and Huffman coding**"
   ]
  },
  {
   "cell_type": "markdown",
   "metadata": {},
   "source": [
    "#### **Intoduction:**\n",
    "In this practical work, we will explore information theory concepts such as entropy and Huffman coding. We will focuses on implementing methods to compute the entropy of a character string and designing Huffman coding, a widely used compression algorithm. Entropy measures the average information content of a message, while Huffman coding is an optimal prefix coding technique that minimizes the average number of bits required to represent characters in a string."
   ]
  },
  {
   "cell_type": "markdown",
   "metadata": {},
   "source": [
    "#### **Objectives and Goals:**\n",
    "\n",
    "- Understand the concept of entropy and its application to character strings.\n",
    "- Implement methods to compute character occurrence and entropy of a string.\n",
    "- Design a class for representing nodes in a binary tree.\n",
    "- Implement methods for constructing an optimal Huffman tree.\n",
    "- Evaluate the average number of bits required to encode characters in given sentences.\n",
    "- Implement compression and decompression methods using the Huffman tree."
   ]
  },
  {
   "cell_type": "markdown",
   "metadata": {},
   "source": [
    "## **1. Entropy of a Character String**\n",
    "\n",
    "Entropy of a character string is a measure of the information content or uncertainty associated with the characters in the string. In information theory, it is calculated using Shannon's entropy formula, which considers the probabilities of individual characters occurring in the string. A higher entropy indicates greater unpredictability or randomness in the string, while lower entropy suggests a more ordered or predictable sequence of characters.\n",
    "\n",
    "#### **Question:**\n",
    "- #### ***Implement a method to compute and store the occurrence of each character in a string.***"
   ]
  },
  {
   "cell_type": "code",
   "execution_count": 83,
   "metadata": {},
   "outputs": [],
   "source": [
    "import heapq\n",
    "from collections import defaultdict\n",
    "import math\n",
    "\n",
    "# Implement a method to compute and store the occurrence of each character in a string\n",
    "def compute_character_occurrence(input_string):\n",
    "    \"\"\"\n",
    "    Computes and stores the occurrence of each character in the input string.\n",
    "\n",
    "    Parameters:\n",
    "    input_string (str): The input character string.\n",
    "\n",
    "    Returns:\n",
    "    dict: A dictionary storing characters as keys and their occurrences as values.\n",
    "    \"\"\"\n",
    "    character_occurrence = {}\n",
    "    for char in input_string:\n",
    "        character_occurrence[char] = character_occurrence.get(char, 0) + 1\n",
    "    return character_occurrence"
   ]
  },
  {
   "cell_type": "markdown",
   "metadata": {},
   "source": [
    "- #### ***Implement a method to compute the entropy of a character string.***\n",
    "\n",
    "\n",
    "#### **Code:**"
   ]
  },
  {
   "cell_type": "code",
   "execution_count": 84,
   "metadata": {},
   "outputs": [],
   "source": [
    "# Implement a method to compute and store the occurrence of each character in a string\n",
    "def compute_entropy(character_occurrence, total_characters):\n",
    "    \"\"\"\n",
    "    Computes the entropy of a character string.\n",
    "\n",
    "    Parameters:\n",
    "    character_occurrence (dict): Dictionary mapping characters to occurrence count.\n",
    "    total_characters (int): Total number of characters in the string.\n",
    "\n",
    "    Returns:\n",
    "    float: The entropy of the character string.\n",
    "    \"\"\"\n",
    "    entropy = -sum((count / total_characters) * math.log2(count / total_characters)\n",
    "                   for count in character_occurrence.values())\n",
    "    return entropy"
   ]
  },
  {
   "cell_type": "markdown",
   "metadata": {},
   "source": [
    "## **2. Huffman Coding**\n",
    "\n",
    "Huffman coding is a compression algorithm that efficiently represents data by assigning variable-length codes to characters based on their frequencies. Developed by David A. Huffman, it constructs a binary tree where shorter codes are assigned to more frequent characters. Huffman coding achieves compression by using shorter codes for common characters, reducing the overall number of bits needed to represent the data. This method is widely utilized in various compression applications, providing an effective way to encode and decode information with minimal loss.\n",
    "\n",
    "#### **Question:**\n",
    "- #### ***Design a class Node that represents a node in a binary tree: a node is characterized by a value, a left child, and a right child. If the node is a leaf, then both children are null.***"
   ]
  },
  {
   "cell_type": "code",
   "execution_count": 85,
   "metadata": {},
   "outputs": [],
   "source": [
    "# Design a class Node that represents a node in a binary tree:\n",
    "class Node:\n",
    "    def __init__(self, value, frequency=None):\n",
    "        self.value = value\n",
    "        self.frequency = frequency\n",
    "        self.left = None\n",
    "        self.right = None\n",
    "\n",
    "    def __lt__(self, other):\n",
    "        if self.frequency is None:\n",
    "            return True\n",
    "        elif other.frequency is None:\n",
    "            return False\n",
    "        return self.frequency < other.frequency\n"
   ]
  },
  {
   "cell_type": "markdown",
   "metadata": {},
   "source": [
    "- #### ***Implement a method to compute the optimal tree to encode a given character string.***"
   ]
  },
  {
   "cell_type": "code",
   "execution_count": 86,
   "metadata": {},
   "outputs": [],
   "source": [
    "# Implement a method to compute the optimal tree to encode a given character string.\n",
    "def build_huffman_tree(input_string):\n",
    "    frequency_map = defaultdict(int)\n",
    "    for char in input_string:\n",
    "        frequency_map[char] += 1\n",
    "\n",
    "    priority_queue = [Node(char) for char in frequency_map.keys()]\n",
    "    heapq.heapify(priority_queue)\n",
    "\n",
    "    while len(priority_queue) > 1:\n",
    "        left_child = heapq.heappop(priority_queue)\n",
    "        right_child = heapq.heappop(priority_queue)\n",
    "\n",
    "        internal_node = Node(None)\n",
    "        internal_node.left = left_child\n",
    "        internal_node.right = right_child\n",
    "\n",
    "        heapq.heappush(priority_queue, internal_node)\n",
    "\n",
    "    return priority_queue[0]\n"
   ]
  },
  {
   "cell_type": "markdown",
   "metadata": {},
   "source": [
    "#### **Encode:**"
   ]
  },
  {
   "cell_type": "code",
   "execution_count": 87,
   "metadata": {},
   "outputs": [],
   "source": [
    "def huffman_encode_sentence(sentence, huffman_tree):\n",
    "    char_to_code = {}\n",
    "\n",
    "    def generate_codes(node, code=\"\"):\n",
    "        if node is None:\n",
    "            return\n",
    "        if node.value is not None:\n",
    "            char_to_code[node.value] = code\n",
    "        generate_codes(node.left, code + \"0\")\n",
    "        generate_codes(node.right, code + \"1\")\n",
    "\n",
    "    generate_codes(huffman_tree)\n",
    "\n",
    "    encoded_sentence = \"\".join(char_to_code[char] for char in sentence)\n",
    "\n",
    "    return encoded_sentence"
   ]
  },
  {
   "cell_type": "markdown",
   "metadata": {},
   "source": [
    "#### **Decode:**"
   ]
  },
  {
   "cell_type": "code",
   "execution_count": 88,
   "metadata": {},
   "outputs": [],
   "source": [
    "def huffman_decode_sentence(encoded_sentence, huffman_tree):\n",
    "    current_node = huffman_tree\n",
    "    decoded_sentence = \"\"\n",
    "\n",
    "    for bit in encoded_sentence:\n",
    "        if bit == \"0\":\n",
    "            current_node = current_node.left\n",
    "        else:\n",
    "            current_node = current_node.right\n",
    "\n",
    "        if current_node.value is not None:\n",
    "            decoded_sentence += current_node.value\n",
    "            current_node = huffman_tree\n",
    "\n",
    "    return decoded_sentence"
   ]
  },
  {
   "cell_type": "markdown",
   "metadata": {},
   "source": [
    "#### **Average bits per sentence**"
   ]
  },
  {
   "cell_type": "code",
   "execution_count": 93,
   "metadata": {},
   "outputs": [],
   "source": [
    "def average_bits_per_character(root, depth=0):\n",
    "    if root is None:\n",
    "        return 0, 0\n",
    "\n",
    "    if root.left is None and root.right is None:\n",
    "        return depth, 1  # Modified this line to return depth instead of depth * root.value\n",
    "\n",
    "    left_bits, left_chars = average_bits_per_character(root.left, depth + 1)\n",
    "    right_bits, right_chars = average_bits_per_character(root.right, depth + 1)\n",
    "\n",
    "    total_bits = left_bits + right_bits\n",
    "    total_chars = left_chars + right_chars\n",
    "\n",
    "    return total_bits, total_chars\n"
   ]
  },
  {
   "cell_type": "markdown",
   "metadata": {},
   "source": [
    "- #### **3. Use the optimal tree in a method in order to output a compressed version of each sentence.**"
   ]
  },
  {
   "cell_type": "code",
   "execution_count": 94,
   "metadata": {},
   "outputs": [
    {
     "name": "stdout",
     "output_type": "stream",
     "text": [
      "Average bits per character for sentence 1: 7.43\n",
      "Average bits per character for sentence 2: 5.91\n"
     ]
    }
   ],
   "source": [
    "# Test with sentences: “peter piper picked a peck of pickled peppers” and “she sells seashells by the seashore”\n",
    "sentence1 = \"peter piper picked a peck of pickled peppers\"\n",
    "sentence2 = \"she sells seashells by the seashore\"\n",
    "\n",
    "# Build Huffman trees\n",
    "huffman_tree1 = build_huffman_tree(sentence1)\n",
    "huffman_tree2 = build_huffman_tree(sentence2)\n",
    "\n",
    "# For each sentence, what is the average number of bits required to encode each character?\n",
    "# What can you say of this number regarding the entropy of the string?\n",
    "# Calculate average bits per character\n",
    "bits_per_char1, total_chars1 = average_bits_per_character(huffman_tree1)\n",
    "bits_per_char2, total_chars2 = average_bits_per_character(huffman_tree2)\n",
    "\n",
    "average_bits1 = bits_per_char1 / total_chars1\n",
    "average_bits2 = bits_per_char2 / total_chars2\n",
    "\n",
    "print(f\"Average bits per character for sentence 1: {average_bits1:.2f}\")\n",
    "print(f\"Average bits per character for sentence 2: {average_bits2:.2f}\")\n"
   ]
  },
  {
   "cell_type": "markdown",
   "metadata": {},
   "source": [
    "- #### **4. Use the optimal tree in a method in order to decompress the previous output.**"
   ]
  },
  {
   "cell_type": "code",
   "execution_count": 95,
   "metadata": {},
   "outputs": [
    {
     "name": "stdout",
     "output_type": "stream",
     "text": [
      "\n",
      "Original Sentence 1: peter piper picked a peck of pickled peppers\n",
      "Encoded Sentence 1: 000000000000000000000100000000001000000001000000010000000001000000000000000000000000100000000000000000000010000000100000000010000000000000000000000001000010001000000001100000000010000001000000000100000000000000000000010000100010000000001001000001000000000100000000000000000000000010000100010100000000110000000001000000000000000000000100000000000000000000000000000000001000000010000000000001\n",
      "Decoded Sentence 1: peter piper picked a peck of pickled peppers\n",
      "\n",
      "Original Sentence 2: she sells seashells by the seashore\n",
      "Encoded Sentence 2: 0000000000001000001000000010000000000000001000000001000000001000000000000000001000000000000000101000000000000100000100000000100000000100000000000000000100001000100000001100100000100000001000000000000000101000000000000100000010000000001000001\n",
      "Decoded Sentence 2: she sells seashells by the seashore\n"
     ]
    }
   ],
   "source": [
    "# Encode and decode sentences\n",
    "encoded_sentence1 = huffman_encode_sentence(sentence1, huffman_tree1)\n",
    "decoded_sentence1 = huffman_decode_sentence(encoded_sentence1, huffman_tree1)\n",
    "\n",
    "encoded_sentence2 = huffman_encode_sentence(sentence2, huffman_tree2)\n",
    "decoded_sentence2 = huffman_decode_sentence(encoded_sentence2, huffman_tree2)\n",
    "\n",
    "print(f\"\\nOriginal Sentence 1: {sentence1}\")\n",
    "print(f\"Encoded Sentence 1: {encoded_sentence1}\")\n",
    "print(f\"Decoded Sentence 1: {decoded_sentence1}\")\n",
    "\n",
    "print(f\"\\nOriginal Sentence 2: {sentence2}\")\n",
    "print(f\"Encoded Sentence 2: {encoded_sentence2}\")\n",
    "print(f\"Decoded Sentence 2: {decoded_sentence2}\")"
   ]
  }
 ],
 "metadata": {
  "kernelspec": {
   "display_name": "Python 3",
   "language": "python",
   "name": "python3"
  },
  "language_info": {
   "codemirror_mode": {
    "name": "ipython",
    "version": 3
   },
   "file_extension": ".py",
   "mimetype": "text/x-python",
   "name": "python",
   "nbconvert_exporter": "python",
   "pygments_lexer": "ipython3",
   "version": "3.12.2"
  }
 },
 "nbformat": 4,
 "nbformat_minor": 2
}
