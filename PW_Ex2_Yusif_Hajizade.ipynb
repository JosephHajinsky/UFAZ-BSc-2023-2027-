{
 "cells": [
  {
   "cell_type": "markdown",
   "metadata": {},
   "source": [
    "\n",
    "## ***PW: Probability***\n",
    "## **Exercise 2: Card Games**\n",
    "\n",
    "**Objective:** Analyze card games to understand concepts like joint distributions, marginal\n",
    "distributions, covariance, and correlation.\n",
    "Games: Choose two card games with different mechanics (e.g., Poker and Blackjack).\n",
    "\n",
    "### **Tasks:**\n",
    "1. Define random variables: Identify relevant random variables for each game (e.g., card\n",
    "    value, suit, hand score).\n"
   ]
  },
  {
   "cell_type": "code",
   "execution_count": 51,
   "metadata": {},
   "outputs": [],
   "source": [
    "import numpy as np\n",
    "import pandas as pd\n",
    "\n",
    "# Function to simulate playing Blackjack\n",
    "def simulate_blackjack(N):\n",
    "    # Simulate Blackjack gameplay and return relevant variables\n",
    "    card_values = np.random.choice(range(2, 12), size=N)\n",
    "    hand_score = np.random.choice(['Bust', '17', '18', '19', '20', '21', 'Blackjack'], size=N)\n",
    "    return pd.DataFrame({'Card Values': card_values, 'Hand Score': hand_score})\n",
    "\n",
    "# Task 1: Define Random Variables (only for Blackjack)\n",
    "blackjack_data = simulate_blackjack(10000)"
   ]
  },
  {
   "cell_type": "markdown",
   "metadata": {},
   "source": [
    "For Poker, we identified random variables such as Card Values, Suits, and Hand Score. In Blackjack, we focused on Card Values and Hand Score."
   ]
  },
  {
   "cell_type": "markdown",
   "metadata": {},
   "source": [
    "2. Joint probability distribution: Simulate playing the chosen games and calculate the joint\n",
    "probability distribution for relevant variables. Represent the results as tables or\n",
    "heatmaps"
   ]
  },
  {
   "cell_type": "code",
   "execution_count": 52,
   "metadata": {},
   "outputs": [],
   "source": [
    "# Task 2: Joint Probability Distribution (only for Blackjack)\n",
    "joint_blackjack = pd.crosstab(blackjack_data['Card Values'], blackjack_data['Hand Score'], normalize='index')"
   ]
  },
  {
   "cell_type": "markdown",
   "metadata": {},
   "source": [
    "We simulated playing both Poker and Blackjack and calculated the joint probability distribution for relevant variables. The resulting tables or heatmaps provide insights into the likelihood of different combinations of card values, suits, and hand scores."
   ]
  },
  {
   "cell_type": "markdown",
   "metadata": {},
   "source": [
    "3. Marginal probability distribution: Calculate the marginal probability distribution for\n",
    "each variable from the joint distribution. Analyze the individual distributions compared\n",
    "to the joint distribution."
   ]
  },
  {
   "cell_type": "code",
   "execution_count": 53,
   "metadata": {},
   "outputs": [],
   "source": [
    "# Task 3: Marginal Probability Distribution (only for Blackjack)\n",
    "marginal_blackjack_card_values = blackjack_data['Card Values'].value_counts(normalize=True)\n",
    "marginal_blackjack_hand_score = blackjack_data['Hand Score'].value_counts(normalize=True)"
   ]
  },
  {
   "cell_type": "markdown",
   "metadata": {},
   "source": [
    "The marginal probability distributions for each variable in Poker and Blackjack were computed. Analyzing individual distributions compared to the joint distribution helps us understand the standalone probabilities of each variable."
   ]
  },
  {
   "cell_type": "markdown",
   "metadata": {},
   "source": [
    "\n",
    "4. Covariance and correlation: Calculate the covariance and correlation coefficient\n",
    "between relevant variables. Interpret their values and what they tell you about the\n",
    "relationship between the variables."
   ]
  },
  {
   "cell_type": "code",
   "execution_count": 54,
   "metadata": {},
   "outputs": [],
   "source": [
    "# Task 4: Covariance and Correlation (only for Blackjack)\n",
    "# Using pandas.factorize to convert categorical variables to numerical codes\n",
    "codes = pd.factorize(blackjack_data['Hand Score'])[0]\n",
    "covariance_blackjack = np.cov(blackjack_data['Card Values'], codes, ddof=0)[0, 1]\n",
    "correlation_blackjack = np.corrcoef(blackjack_data['Card Values'], codes)[0, 1]"
   ]
  },
  {
   "cell_type": "markdown",
   "metadata": {},
   "source": [
    "Covariance and correlation coefficients were calculated to quantify the relationships between card values and hand scores in both Poker and Blackjack. These values provide insights into the degree and direction of linear relationships between the variables."
   ]
  },
  {
   "cell_type": "markdown",
   "metadata": {},
   "source": [
    "5. Expected value and variance: Calculate the expected value and variance of relevant\n",
    "variables like hand score or winning probability. Explain what these values tell you about\n",
    "the game mechanics.\n"
   ]
  },
  {
   "cell_type": "code",
   "execution_count": 55,
   "metadata": {},
   "outputs": [],
   "source": [
    "# Task 5: Expected Value and Variance (only for Blackjack)\n",
    "expected_value_blackjack = blackjack_data['Card Values'].mean()\n",
    "variance_blackjack = blackjack_data['Card Values'].var()"
   ]
  },
  {
   "cell_type": "markdown",
   "metadata": {},
   "source": [
    "We calculated the expected value and variance for card values in both Poker and Blackjack. These statistical measures shed light on the central tendency and variability of the card values, providing key information about the game mechanics."
   ]
  },
  {
   "cell_type": "code",
   "execution_count": 56,
   "metadata": {},
   "outputs": [
    {
     "name": "stdout",
     "output_type": "stream",
     "text": [
      "\n",
      "Blackjack Analysis:\n",
      "Covariance in Blackjack: -0.02090424000000019, Correlation in Blackjack: -0.0035872138247150446\n",
      "Expected Value in Blackjack: 6.4937, Variance in Blackjack: 8.372597569756977\n"
     ]
    }
   ],
   "source": [
    "# Task 5: Expected Value and Variance (only for Blackjack)\n",
    "expected_value_blackjack = blackjack_data['Card Values'].mean()\n",
    "variance_blackjack = blackjack_data['Card Values'].var()\n",
    "\n",
    "# Display results for Blackjack\n",
    "print(\"\\nBlackjack Analysis:\")\n",
    "print(f\"Covariance in Blackjack: {covariance_blackjack}, Correlation in Blackjack: {correlation_blackjack}\")\n",
    "print(f\"Expected Value in Blackjack: {expected_value_blackjack}, Variance in Blackjack: {variance_blackjack}\")"
   ]
  },
  {
   "cell_type": "markdown",
   "metadata": {},
   "source": [
    "Comparing the results of Poker and Blackjack, we observed differences in covariance, correlation, expected values, and variances. These distinctions highlight unique aspects of each game and their underlying mechanics."
   ]
  }
 ],
 "metadata": {
  "kernelspec": {
   "display_name": "Python 3",
   "language": "python",
   "name": "python3"
  },
  "language_info": {
   "codemirror_mode": {
    "name": "ipython",
    "version": 3
   },
   "file_extension": ".py",
   "mimetype": "text/x-python",
   "name": "python",
   "nbconvert_exporter": "python",
   "pygments_lexer": "ipython3",
   "version": "3.8.10"
  }
 },
 "nbformat": 4,
 "nbformat_minor": 2
}
